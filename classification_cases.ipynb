{
  "nbformat": 4,
  "nbformat_minor": 0,
  "metadata": {
    "accelerator": "GPU",
    "colab": {
      "name": "classification_cases.ipynb",
      "provenance": [],
      "collapsed_sections": [],
      "machine_shape": "hm"
    },
    "kernelspec": {
      "display_name": "Python 3",
      "name": "python3"
    }
  },
  "cells": [
    {
      "cell_type": "markdown",
      "metadata": {
        "id": "QFR4qZZSdsV1"
      },
      "source": [
        "Import the required library/packages "
      ]
    },
    {
      "cell_type": "code",
      "metadata": {
        "colab": {
          "base_uri": "https://localhost:8080/"
        },
        "id": "K_6Nrl6HkgKV",
        "outputId": "c38c377e-ca71-4a3d-d43e-1bd46862d409"
      },
      "source": [
        "%matplotlib inline\n",
        "import matplotlib.pyplot as plt\n",
        "import pandas as pd\n",
        "import numpy as np\n",
        "from sklearn.linear_model import LinearRegression\n",
        "from sklearn.model_selection import train_test_split\n",
        "from sklearn.linear_model import LogisticRegression\n",
        "from sklearn.feature_extraction.text import CountVectorizer,TfidfVectorizer\n",
        "import matplotlib.pyplot as plt\n",
        "import os\n",
        "\n",
        "import re\n",
        "import nltk\n",
        "from nltk.corpus import stopwords\n",
        "import nltk\n",
        "nltk.download('stopwords')"
      ],
      "execution_count": 1,
      "outputs": [
        {
          "output_type": "stream",
          "text": [
            "[nltk_data] Downloading package stopwords to /root/nltk_data...\n",
            "[nltk_data]   Unzipping corpora/stopwords.zip.\n"
          ],
          "name": "stdout"
        },
        {
          "output_type": "execute_result",
          "data": {
            "text/plain": [
              "True"
            ]
          },
          "metadata": {
            "tags": []
          },
          "execution_count": 1
        }
      ]
    },
    {
      "cell_type": "code",
      "metadata": {
        "colab": {
          "base_uri": "https://localhost:8080/",
          "height": 97
        },
        "id": "Eot08en6kugf",
        "outputId": "7b119c7d-ff2a-4dcc-b913-86a08e8f4908"
      },
      "source": [
        "filename = '/content/News_Category (1).csv' \n",
        "df = pd.read_csv(filename) #read the file \n",
        "df.head(1) #display the first row"
      ],
      "execution_count": 2,
      "outputs": [
        {
          "output_type": "execute_result",
          "data": {
            "text/html": [
              "<div>\n",
              "<style scoped>\n",
              "    .dataframe tbody tr th:only-of-type {\n",
              "        vertical-align: middle;\n",
              "    }\n",
              "\n",
              "    .dataframe tbody tr th {\n",
              "        vertical-align: top;\n",
              "    }\n",
              "\n",
              "    .dataframe thead th {\n",
              "        text-align: right;\n",
              "    }\n",
              "</style>\n",
              "<table border=\"1\" class=\"dataframe\">\n",
              "  <thead>\n",
              "    <tr style=\"text-align: right;\">\n",
              "      <th></th>\n",
              "      <th>category</th>\n",
              "      <th>headline</th>\n",
              "      <th>authors</th>\n",
              "      <th>link</th>\n",
              "      <th>short_description</th>\n",
              "      <th>date</th>\n",
              "      <th>key_words</th>\n",
              "    </tr>\n",
              "  </thead>\n",
              "  <tbody>\n",
              "    <tr>\n",
              "      <th>0</th>\n",
              "      <td>CRIME</td>\n",
              "      <td>Children, Same-Sex Couple Identified In 'Horri...</td>\n",
              "      <td>Carla Herreria</td>\n",
              "      <td>https://www.huffingtonpost.com/entry/troy-new-...</td>\n",
              "      <td>The family's bodies were found in a basement a...</td>\n",
              "      <td>2017-12-26</td>\n",
              "      <td>['dewolf also told news 10 abc reporter lauren...</td>\n",
              "    </tr>\n",
              "  </tbody>\n",
              "</table>\n",
              "</div>"
            ],
            "text/plain": [
              "  category  ...                                          key_words\n",
              "0    CRIME  ...  ['dewolf also told news 10 abc reporter lauren...\n",
              "\n",
              "[1 rows x 7 columns]"
            ]
          },
          "metadata": {
            "tags": []
          },
          "execution_count": 2
        }
      ]
    },
    {
      "cell_type": "code",
      "metadata": {
        "colab": {
          "base_uri": "https://localhost:8080/",
          "height": 97
        },
        "id": "Plx2B9WAxYex",
        "outputId": "936eb529-6a76-4701-e6ca-9fba87261f1f"
      },
      "source": [
        "df['label_id'] = pd.factorize(df.category)[0] #factorize category \n",
        "df[0:1] #looking at the first row"
      ],
      "execution_count": 3,
      "outputs": [
        {
          "output_type": "execute_result",
          "data": {
            "text/html": [
              "<div>\n",
              "<style scoped>\n",
              "    .dataframe tbody tr th:only-of-type {\n",
              "        vertical-align: middle;\n",
              "    }\n",
              "\n",
              "    .dataframe tbody tr th {\n",
              "        vertical-align: top;\n",
              "    }\n",
              "\n",
              "    .dataframe thead th {\n",
              "        text-align: right;\n",
              "    }\n",
              "</style>\n",
              "<table border=\"1\" class=\"dataframe\">\n",
              "  <thead>\n",
              "    <tr style=\"text-align: right;\">\n",
              "      <th></th>\n",
              "      <th>category</th>\n",
              "      <th>headline</th>\n",
              "      <th>authors</th>\n",
              "      <th>link</th>\n",
              "      <th>short_description</th>\n",
              "      <th>date</th>\n",
              "      <th>key_words</th>\n",
              "      <th>label_id</th>\n",
              "    </tr>\n",
              "  </thead>\n",
              "  <tbody>\n",
              "    <tr>\n",
              "      <th>0</th>\n",
              "      <td>CRIME</td>\n",
              "      <td>Children, Same-Sex Couple Identified In 'Horri...</td>\n",
              "      <td>Carla Herreria</td>\n",
              "      <td>https://www.huffingtonpost.com/entry/troy-new-...</td>\n",
              "      <td>The family's bodies were found in a basement a...</td>\n",
              "      <td>2017-12-26</td>\n",
              "      <td>['dewolf also told news 10 abc reporter lauren...</td>\n",
              "      <td>0</td>\n",
              "    </tr>\n",
              "  </tbody>\n",
              "</table>\n",
              "</div>"
            ],
            "text/plain": [
              "  category  ... label_id\n",
              "0    CRIME  ...        0\n",
              "\n",
              "[1 rows x 8 columns]"
            ]
          },
          "metadata": {
            "tags": []
          },
          "execution_count": 3
        }
      ]
    },
    {
      "cell_type": "code",
      "metadata": {
        "colab": {
          "base_uri": "https://localhost:8080/",
          "height": 80
        },
        "id": "aOTs-VIO5hIZ",
        "outputId": "ce29ee6c-65e8-478b-8120-cc210a838113"
      },
      "source": [
        "label = df[['category','label_id']].copy() #return a new list but does not modify the orginal \n",
        "label[0:1]"
      ],
      "execution_count": 4,
      "outputs": [
        {
          "output_type": "execute_result",
          "data": {
            "text/html": [
              "<div>\n",
              "<style scoped>\n",
              "    .dataframe tbody tr th:only-of-type {\n",
              "        vertical-align: middle;\n",
              "    }\n",
              "\n",
              "    .dataframe tbody tr th {\n",
              "        vertical-align: top;\n",
              "    }\n",
              "\n",
              "    .dataframe thead th {\n",
              "        text-align: right;\n",
              "    }\n",
              "</style>\n",
              "<table border=\"1\" class=\"dataframe\">\n",
              "  <thead>\n",
              "    <tr style=\"text-align: right;\">\n",
              "      <th></th>\n",
              "      <th>category</th>\n",
              "      <th>label_id</th>\n",
              "    </tr>\n",
              "  </thead>\n",
              "  <tbody>\n",
              "    <tr>\n",
              "      <th>0</th>\n",
              "      <td>CRIME</td>\n",
              "      <td>0</td>\n",
              "    </tr>\n",
              "  </tbody>\n",
              "</table>\n",
              "</div>"
            ],
            "text/plain": [
              "  category  label_id\n",
              "0    CRIME         0"
            ]
          },
          "metadata": {
            "tags": []
          },
          "execution_count": 4
        }
      ]
    },
    {
      "cell_type": "code",
      "metadata": {
        "id": "JmS_om8b-sC5"
      },
      "source": [
        "#convert to list\n",
        "cat = list(label.category) \n",
        "id = list(label.label_id)"
      ],
      "execution_count": 8,
      "outputs": []
    },
    {
      "cell_type": "code",
      "metadata": {
        "id": "bXUzGJayexz7"
      },
      "source": [
        "len(cat),cat"
      ],
      "execution_count": null,
      "outputs": []
    },
    {
      "cell_type": "code",
      "metadata": {
        "id": "03RIWRKFe3og"
      },
      "source": [
        "len(id),id"
      ],
      "execution_count": null,
      "outputs": []
    },
    {
      "cell_type": "code",
      "metadata": {
        "id": "fruo3VQx9ENi"
      },
      "source": [
        "label_dict = {cat[i]: id[i] for i in range(len(cat))}  #Making dictionary of the categories and assigning their corresponding id"
      ],
      "execution_count": 15,
      "outputs": []
    },
    {
      "cell_type": "code",
      "metadata": {
        "id": "AY7Z0lth933I",
        "colab": {
          "base_uri": "https://localhost:8080/"
        },
        "outputId": "e993b241-5009-48a0-b0cb-038b52e44107"
      },
      "source": [
        "label_dict"
      ],
      "execution_count": 16,
      "outputs": [
        {
          "output_type": "execute_result",
          "data": {
            "text/plain": [
              "{'ARTS': 30,\n",
              " 'ARTS & CULTURE': 21,\n",
              " 'BLACK VOICES': 6,\n",
              " 'BUSINESS': 11,\n",
              " 'COLLEGE': 19,\n",
              " 'COMEDY': 8,\n",
              " 'CRIME': 0,\n",
              " 'CULTURE & ARTS': 40,\n",
              " 'DIVORCE': 35,\n",
              " 'EDUCATION': 18,\n",
              " 'ENTERTAINMENT': 1,\n",
              " 'ENVIRONMENT': 39,\n",
              " 'FIFTY': 29,\n",
              " 'FOOD & DRINK': 37,\n",
              " 'GOOD NEWS': 27,\n",
              " 'GREEN': 23,\n",
              " 'HEALTHY LIVING': 25,\n",
              " 'HOME & LIVING': 33,\n",
              " 'IMPACT': 3,\n",
              " 'LATINO VOICES': 17,\n",
              " 'MEDIA': 13,\n",
              " 'MONEY': 38,\n",
              " 'PARENTING': 32,\n",
              " 'PARENTS': 20,\n",
              " 'POLITICS': 4,\n",
              " 'QUEER VOICES': 9,\n",
              " 'RELIGION': 15,\n",
              " 'SCIENCE': 16,\n",
              " 'SPORTS': 10,\n",
              " 'STYLE': 22,\n",
              " 'STYLE & BEAUTY': 34,\n",
              " 'TASTE': 24,\n",
              " 'TECH': 14,\n",
              " 'THE WORLDPOST': 26,\n",
              " 'TRAVEL': 12,\n",
              " 'WEDDINGS': 36,\n",
              " 'WEIRD NEWS': 5,\n",
              " 'WELLNESS': 31,\n",
              " 'WOMEN': 7,\n",
              " 'WORLD NEWS': 2,\n",
              " 'WORLDPOST': 28}"
            ]
          },
          "metadata": {
            "tags": []
          },
          "execution_count": 16
        }
      ]
    },
    {
      "cell_type": "markdown",
      "metadata": {
        "id": "yWj2cDHYfEt4"
      },
      "source": [
        "TFidfVectorizer is used to convert a collection of raw documnets into matrix of TF-IDF features.\n",
        "TF is the number of times terms that appears in a documnet.\n",
        "IDF is the inverse document frequency.\n",
        "\n",
        "sublinear_tf is a boolean,defualt is False. Applies sublinear tf scalling, replaces tf with 1 + log(tf)\n",
        "\n",
        "min_df is used to remove terms that appear infrequently.\n",
        "if min_df was is set to 3 which means it ignores terms that appear less than 3 documents \n",
        "\n",
        "for encoding latin-1 is used \n",
        "\n",
        "for stop word enlgish is used \n",
        "ngram (1,4) is applied\n"
      ]
    },
    {
      "cell_type": "code",
      "metadata": {
        "id": "Gp5vXtpWxpuf"
      },
      "source": [
        "from sklearn.feature_extraction.text import TfidfVectorizer\n",
        "\n",
        "vectorizer = TfidfVectorizer(sublinear_tf=True, min_df=3, norm='l2', encoding='latin-1', ngram_range=(1,4),stop_words='english')\n",
        "key_words_feat = vectorizer.fit_transform(df.key_words).toarray()\n",
        "categories_label = df.label_id"
      ],
      "execution_count": 17,
      "outputs": []
    },
    {
      "cell_type": "code",
      "metadata": {
        "id": "IQPgoBGWyMWF"
      },
      "source": [
        "vectorizer.vocabulary_"
      ],
      "execution_count": null,
      "outputs": []
    },
    {
      "cell_type": "code",
      "metadata": {
        "colab": {
          "base_uri": "https://localhost:8080/"
        },
        "id": "6waOW80LyXbl",
        "outputId": "085944fa-d463-4a56-bc39-d66cbaa79fa8"
      },
      "source": [
        "key_words_feat.shape, categories_label.shape"
      ],
      "execution_count": 21,
      "outputs": [
        {
          "output_type": "execute_result",
          "data": {
            "text/plain": [
              "((19298, 51412), (19298,))"
            ]
          },
          "metadata": {
            "tags": []
          },
          "execution_count": 21
        }
      ]
    },
    {
      "cell_type": "markdown",
      "metadata": {
        "id": "nTm3tqvTkJj5"
      },
      "source": [
        "Splitting data into train and test\n",
        "\n",
        "25 percent of the data is used for testing purpose the rest for traning \n",
        "random state is set to 1000"
      ]
    },
    {
      "cell_type": "code",
      "metadata": {
        "id": "ZpB_BjYj1yTk"
      },
      "source": [
        "from sklearn.model_selection import train_test_split\n",
        "X_train, X_test, y_train, y_test=train_test_split(key_words_feat,categories_label,test_size=0.25, random_state=1000)"
      ],
      "execution_count": 25,
      "outputs": []
    },
    {
      "cell_type": "code",
      "metadata": {
        "colab": {
          "base_uri": "https://localhost:8080/"
        },
        "id": "EPpB4g0kwiAU",
        "outputId": "97eb2b4b-3a4d-4175-8b36-774e32182fda"
      },
      "source": [
        "X_train.shape,y_train.shape #looking at the shape rows and columns"
      ],
      "execution_count": 26,
      "outputs": [
        {
          "output_type": "execute_result",
          "data": {
            "text/plain": [
              "((14473, 51412), (14473,))"
            ]
          },
          "metadata": {
            "tags": []
          },
          "execution_count": 26
        }
      ]
    },
    {
      "cell_type": "markdown",
      "metadata": {
        "id": "i5ikJ8ajoFXZ"
      },
      "source": [
        "Three different classifer are used:\n",
        "1. LogisticRegression\n",
        "2. MultinomialNB(used Bayseian model)\n",
        "3. RandomForestClassifier"
      ]
    },
    {
      "cell_type": "code",
      "metadata": {
        "colab": {
          "base_uri": "https://localhost:8080/"
        },
        "id": "azg8jQ6A1R9O",
        "outputId": "854cef8f-89a0-4493-acd1-8448d641b501"
      },
      "source": [
        "from sklearn.linear_model import LogisticRegression #load the model \n",
        "clf1 = LogisticRegression(random_state=1000,max_iter=1000, multi_class='multinomial',solver='lbfgs',C=7) \n",
        "clf1.fit(X_train, y_train) #fitting the model\n",
        "score = model.score(X_test, y_test) #obtain the score\n",
        "print (\"Accuracy of the model is : \",end=\"\") \n",
        "print (\"{0:.4f}\".format(score)) "
      ],
      "execution_count": 27,
      "outputs": [
        {
          "output_type": "stream",
          "text": [
            "Accuracy of the model is : 0.5447\n"
          ],
          "name": "stdout"
        }
      ]
    },
    {
      "cell_type": "code",
      "metadata": {
        "colab": {
          "base_uri": "https://localhost:8080/"
        },
        "id": "NLH5ixGT4xbw",
        "outputId": "97ce6c9b-f6ca-4f63-89bd-99f6d10ea195"
      },
      "source": [
        "from sklearn.naive_bayes import MultinomialNB #load the model\n",
        "clf2 = MultinomialNB() \n",
        "clf2.fit(X_train, y_train) #train the model \n",
        "score = clf2.score(X_test, y_test)\n",
        "print (\"Accuracy of the model is : \",end=\"\") \n",
        "print (\"{0:.4f}\".format(score)) "
      ],
      "execution_count": 28,
      "outputs": [
        {
          "output_type": "stream",
          "text": [
            "Accuracy of the model is : 0.5109\n"
          ],
          "name": "stdout"
        }
      ]
    },
    {
      "cell_type": "code",
      "metadata": {
        "colab": {
          "base_uri": "https://localhost:8080/"
        },
        "id": "hR6Fk8W942Zb",
        "outputId": "f3eb4f4a-06fc-4eec-c3bd-2c95740c4bda"
      },
      "source": [
        "from sklearn.ensemble import RandomForestClassifier #load the model \n",
        "clf3 = RandomForestClassifier()\n",
        "clf3.fit(X_train, y_train) #fit the model \n",
        "score = clf3.score(X_test, y_test)\n",
        "print (\"Accuracy of the model is : \",end=\"\") \n",
        "print (\"{0:.4f}\".format(score)) "
      ],
      "execution_count": 29,
      "outputs": [
        {
          "output_type": "stream",
          "text": [
            "Accuracy of the model is : 0.4553\n"
          ],
          "name": "stdout"
        }
      ]
    },
    {
      "cell_type": "code",
      "metadata": {
        "id": "LI5n-DCfr7AD"
      },
      "source": [
        "y_pred = model.predict(X_test)"
      ],
      "execution_count": 39,
      "outputs": []
    },
    {
      "cell_type": "code",
      "metadata": {
        "id": "GyXCJxQqCOV0",
        "colab": {
          "base_uri": "https://localhost:8080/"
        },
        "outputId": "f19d83ab-451a-47cb-8c54-a6a948e41315"
      },
      "source": [
        "from sklearn.metrics import classification_report, confusion_matrix, accuracy_score\n",
        "result = confusion_matrix(y_test, y_pred)\n",
        "print(\"Confusion Matrix:\")\n",
        "print(result)\n",
        "result1 = classification_report(y_test, y_pred)\n",
        "print(\"Classification Report:\",)\n",
        "print (result1)\n",
        "result2 = accuracy_score(y_test,y_pred)\n",
        "print(\"Accuracy:\",result2)"
      ],
      "execution_count": 40,
      "outputs": [
        {
          "output_type": "stream",
          "text": [
            "Confusion Matrix:\n",
            "[[91  0  0 ...  0  0  0]\n",
            " [ 2 78  3 ...  0  0  1]\n",
            " [ 3  0 57 ...  0  0  0]\n",
            " ...\n",
            " [ 0  0  0 ... 74  0  0]\n",
            " [ 2  1  0 ...  0 57  0]\n",
            " [ 0  3  0 ...  0  0 78]]\n",
            "Classification Report:\n",
            "              precision    recall  f1-score   support\n",
            "\n",
            "           0       0.60      0.72      0.65       127\n",
            "           1       0.51      0.67      0.58       117\n",
            "           2       0.46      0.50      0.48       115\n",
            "           3       0.47      0.45      0.46       121\n",
            "           4       0.52      0.53      0.52       123\n",
            "           5       0.46      0.26      0.33        82\n",
            "           6       0.56      0.45      0.50       101\n",
            "           7       0.46      0.36      0.41       129\n",
            "           8       0.50      0.64      0.56       113\n",
            "           9       0.79      0.72      0.76        94\n",
            "          10       0.69      0.81      0.74       108\n",
            "          11       0.50      0.49      0.49       106\n",
            "          12       0.57      0.52      0.54       137\n",
            "          13       0.56      0.57      0.56       104\n",
            "          14       0.62      0.60      0.61       120\n",
            "          15       0.71      0.66      0.68       125\n",
            "          16       0.73      0.70      0.72       121\n",
            "          17       0.79      0.55      0.65       116\n",
            "          18       0.67      0.70      0.68       123\n",
            "          19       0.70      0.60      0.65       122\n",
            "          20       0.42      0.45      0.43       108\n",
            "          21       0.45      0.47      0.46       117\n",
            "          22       0.62      0.58      0.60       124\n",
            "          23       0.48      0.51      0.49       116\n",
            "          24       0.37      0.36      0.37       122\n",
            "          25       0.30      0.41      0.35       116\n",
            "          26       0.49      0.32      0.39       126\n",
            "          27       0.57      0.60      0.59       121\n",
            "          28       0.48      0.55      0.51       115\n",
            "          29       0.46      0.61      0.53       135\n",
            "          30       0.45      0.43      0.44       129\n",
            "          31       0.36      0.44      0.40       122\n",
            "          32       0.37      0.34      0.36       120\n",
            "          33       0.57      0.66      0.61       104\n",
            "          34       0.48      0.62      0.54       115\n",
            "          35       0.79      0.55      0.65       116\n",
            "          36       0.81      0.70      0.75       118\n",
            "          37       0.51      0.50      0.50       132\n",
            "          38       0.69      0.62      0.65       119\n",
            "          39       0.61      0.47      0.53       121\n",
            "          40       0.58      0.62      0.60       125\n",
            "\n",
            "    accuracy                           0.54      4825\n",
            "   macro avg       0.55      0.54      0.54      4825\n",
            "weighted avg       0.55      0.54      0.54      4825\n",
            "\n",
            "Accuracy: 0.5446632124352332\n"
          ],
          "name": "stdout"
        }
      ]
    }
  ]
}